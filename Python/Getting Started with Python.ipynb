{
 "cells": [
  {
   "cell_type": "markdown",
   "id": "9590f1f4",
   "metadata": {},
   "source": [
    "# Basics of Python\n",
    "\n",
    "In this first lesson, we will explore two basic data structures that are very useful: vectors and dataframes. Vectors are one dimensional and dataframes are two dimensional objects. But first, let’s get the necessary software to begin coding."
   ]
  },
  {
   "cell_type": "markdown",
   "id": "39c65d8e",
   "metadata": {},
   "source": [
    "Let us begin with simple computations in Python using +,-,* and / operators and functions."
   ]
  },
  {
   "cell_type": "code",
   "execution_count": 3,
   "id": "16d1f1b7",
   "metadata": {},
   "outputs": [
    {
     "data": {
      "text/plain": [
       "1925"
      ]
     },
     "execution_count": 3,
     "metadata": {},
     "output_type": "execute_result"
    }
   ],
   "source": [
    "25*77"
   ]
  },
  {
   "cell_type": "code",
   "execution_count": 4,
   "id": "db8b3aa1",
   "metadata": {},
   "outputs": [
    {
     "data": {
      "text/plain": [
       "5.0"
      ]
     },
     "execution_count": 4,
     "metadata": {},
     "output_type": "execute_result"
    }
   ],
   "source": [
    "25/5  "
   ]
  },
  {
   "cell_type": "markdown",
   "id": "e42779e4",
   "metadata": {},
   "source": [
    "Commonly used functions like sqrt(),exp(), and log() are made available in the `math` package."
   ]
  },
  {
   "cell_type": "code",
   "execution_count": 6,
   "id": "0cccd81c",
   "metadata": {},
   "outputs": [
    {
     "data": {
      "text/plain": [
       "8.774964387392123"
      ]
     },
     "execution_count": 6,
     "metadata": {},
     "output_type": "execute_result"
    }
   ],
   "source": [
    "import math\n",
    "math.sqrt(77)  "
   ]
  },
  {
   "cell_type": "code",
   "execution_count": 7,
   "id": "2c2d06ab",
   "metadata": {},
   "outputs": [
    {
     "data": {
      "text/plain": [
       "12.182493960703473"
      ]
     },
     "execution_count": 7,
     "metadata": {},
     "output_type": "execute_result"
    }
   ],
   "source": [
    "math.exp(2.5)  "
   ]
  },
  {
   "cell_type": "code",
   "execution_count": 9,
   "id": "8732f39c",
   "metadata": {},
   "outputs": [
    {
     "data": {
      "text/plain": [
       "4.007333185232471"
      ]
     },
     "execution_count": 9,
     "metadata": {},
     "output_type": "execute_result"
    }
   ],
   "source": [
    "math.log(55)"
   ]
  },
  {
   "cell_type": "markdown",
   "id": "10bdc8d5",
   "metadata": {},
   "source": [
    "## Creating Vectors\n",
    "To create a vector, we can use Python tuples. The appropriate syntax is v = (). An example is:"
   ]
  },
  {
   "cell_type": "code",
   "execution_count": 12,
   "id": "69abd623",
   "metadata": {},
   "outputs": [
    {
     "data": {
      "text/plain": [
       "(1, 2, 3, 4)"
      ]
     },
     "execution_count": 12,
     "metadata": {},
     "output_type": "execute_result"
    }
   ],
   "source": [
    "v = (1,2,3,4)\n",
    "v"
   ]
  },
  {
   "cell_type": "markdown",
   "id": "979ec090",
   "metadata": {},
   "source": [
    "For most numerical and statistical uses, it is however more practical to use the NumPy package and its ndarray"
   ]
  },
  {
   "cell_type": "code",
   "execution_count": 36,
   "id": "42ae97a6",
   "metadata": {},
   "outputs": [
    {
     "name": "stdout",
     "output_type": "stream",
     "text": [
      "<class 'numpy.ndarray'>\n"
     ]
    },
    {
     "data": {
      "text/plain": [
       "array([1, 2, 3, 4])"
      ]
     },
     "execution_count": 36,
     "metadata": {},
     "output_type": "execute_result"
    }
   ],
   "source": [
    "import numpy as np\n",
    "v1 = np.array([1,2,3,4])\n",
    "print(type(v1))\n",
    "v1"
   ]
  },
  {
   "cell_type": "markdown",
   "id": "2be67353",
   "metadata": {},
   "source": [
    "To create a vector of a range of numbers, we can use `arange()`. The second argument is excluded from the generated sequence. "
   ]
  },
  {
   "cell_type": "code",
   "execution_count": 52,
   "id": "9168b2c7",
   "metadata": {},
   "outputs": [
    {
     "data": {
      "text/plain": [
       "array([1, 2, 3, 4, 5])"
      ]
     },
     "execution_count": 52,
     "metadata": {},
     "output_type": "execute_result"
    }
   ],
   "source": [
    "vec1 = np.arange(1,6)\n",
    "vec1"
   ]
  },
  {
   "cell_type": "code",
   "execution_count": 53,
   "id": "dd833742",
   "metadata": {},
   "outputs": [
    {
     "data": {
      "text/plain": [
       "array([ 2,  5,  8, 11, 14, 17, 20, 23, 26, 29, 32, 35, 38, 41, 44, 47, 50,\n",
       "       53])"
      ]
     },
     "execution_count": 53,
     "metadata": {},
     "output_type": "execute_result"
    }
   ],
   "source": [
    "vec2 = np.arange(2,55,3)\n",
    "vec2"
   ]
  },
  {
   "cell_type": "markdown",
   "id": "1157c542",
   "metadata": {},
   "source": [
    "Adding the third argument above allows us to increment by other values than 1 (the default).\n",
    "\n",
    "To create a vector that repeats a number, character, or a vector of numbers or characters, we use `tile()`. Characters must be in quotations."
   ]
  },
  {
   "cell_type": "code",
   "execution_count": 60,
   "id": "710c2195",
   "metadata": {},
   "outputs": [
    {
     "data": {
      "text/plain": [
       "array([1, 1, 1, 1, 1, 1, 1, 1, 1, 1])"
      ]
     },
     "execution_count": 60,
     "metadata": {},
     "output_type": "execute_result"
    }
   ],
   "source": [
    "vec1 = np.tile(1,10)\n",
    "vec1"
   ]
  },
  {
   "cell_type": "code",
   "execution_count": 57,
   "id": "e96cd6bc",
   "metadata": {},
   "outputs": [
    {
     "data": {
      "text/plain": [
       "array([3, 4, 5, 3, 4, 5, 3, 4, 5])"
      ]
     },
     "execution_count": 57,
     "metadata": {},
     "output_type": "execute_result"
    }
   ],
   "source": [
    "vec2 = np.tile((3,4,5),3)\n",
    "vec2"
   ]
  },
  {
   "cell_type": "markdown",
   "id": "30ec9d1f",
   "metadata": {},
   "source": [
    "The second argument (the elements in parenthesis) is the number of times you want the first element to be repeated.\n",
    "\n",
    "To find the sum of a vector, we use the command sum()."
   ]
  },
  {
   "cell_type": "code",
   "execution_count": 61,
   "id": "ee478e9b",
   "metadata": {},
   "outputs": [
    {
     "data": {
      "text/plain": [
       "10"
      ]
     },
     "execution_count": 61,
     "metadata": {},
     "output_type": "execute_result"
    }
   ],
   "source": [
    "np.sum(vec1)"
   ]
  },
  {
   "cell_type": "markdown",
   "id": "4d0bb4aa",
   "metadata": {},
   "source": [
    "The following are other useful vector based functions in Python with NumPy.\n",
    "\n",
    "- `min(x)` - minimum value of vector x \n",
    "- `max(x)` - maximum value of vector x\n",
    "- mean(x) - mean value of vector x\n",
    "- `median(x)` - median value of vector x\n",
    "- `quantile(x, p)` - pth quantile of vector x\n",
    "- `std(x)` - standard deviation of vector x\n",
    "- `var(x)` - variance of vector x\n",
    "- 'IQR(x)' - Inter Quartile Range (IQR) of vector x\n",
    "- `diff(range(x))` - total range of vector x\n",
    "\n",
    "Let us create three vectors to store information about weight, height, and gender. since gender is not numeric data, we use quotation marks when creating the vector.\n",
    "\n",
    "Note that initially, the gender vector is character. This can be seen using the class() command. The gender vector must be a factor (or more commonly refered to as categorical data) in order to be plotted, and thus we write factor(gender) in the parenthesis of the plot() command"
   ]
  },
  {
   "cell_type": "code",
   "execution_count": 108,
   "id": "0d5ccd21",
   "metadata": {},
   "outputs": [
    {
     "data": {
      "text/plain": [
       "array(['f', 'm', 'f', 'm', 'm', 'f'], dtype='<U1')"
      ]
     },
     "execution_count": 108,
     "metadata": {},
     "output_type": "execute_result"
    }
   ],
   "source": [
    "weight = np.array([60,72,57,90,95,72])\n",
    "height = np.array([1.75,1.8,1.65,1.9,1.74,1.91])\n",
    "gender = np.array(['f','m','f','m','m','f'],dtype='str')\n",
    "gender"
   ]
  },
  {
   "cell_type": "code",
   "execution_count": 109,
   "id": "6316c1ca",
   "metadata": {},
   "outputs": [
    {
     "data": {
      "text/html": [
       "<div>\n",
       "<style scoped>\n",
       "    .dataframe tbody tr th:only-of-type {\n",
       "        vertical-align: middle;\n",
       "    }\n",
       "\n",
       "    .dataframe tbody tr th {\n",
       "        vertical-align: top;\n",
       "    }\n",
       "\n",
       "    .dataframe thead th {\n",
       "        text-align: right;\n",
       "    }\n",
       "</style>\n",
       "<table border=\"1\" class=\"dataframe\">\n",
       "  <thead>\n",
       "    <tr style=\"text-align: right;\">\n",
       "      <th></th>\n",
       "      <th>gender</th>\n",
       "      <th>weight</th>\n",
       "      <th>height</th>\n",
       "    </tr>\n",
       "  </thead>\n",
       "  <tbody>\n",
       "    <tr>\n",
       "      <th>0</th>\n",
       "      <td>f</td>\n",
       "      <td>60</td>\n",
       "      <td>1.75</td>\n",
       "    </tr>\n",
       "    <tr>\n",
       "      <th>1</th>\n",
       "      <td>m</td>\n",
       "      <td>72</td>\n",
       "      <td>1.80</td>\n",
       "    </tr>\n",
       "    <tr>\n",
       "      <th>2</th>\n",
       "      <td>f</td>\n",
       "      <td>57</td>\n",
       "      <td>1.65</td>\n",
       "    </tr>\n",
       "    <tr>\n",
       "      <th>3</th>\n",
       "      <td>m</td>\n",
       "      <td>90</td>\n",
       "      <td>1.90</td>\n",
       "    </tr>\n",
       "    <tr>\n",
       "      <th>4</th>\n",
       "      <td>m</td>\n",
       "      <td>95</td>\n",
       "      <td>1.74</td>\n",
       "    </tr>\n",
       "    <tr>\n",
       "      <th>5</th>\n",
       "      <td>f</td>\n",
       "      <td>72</td>\n",
       "      <td>1.91</td>\n",
       "    </tr>\n",
       "  </tbody>\n",
       "</table>\n",
       "</div>"
      ],
      "text/plain": [
       "  gender  weight  height\n",
       "0      f      60    1.75\n",
       "1      m      72    1.80\n",
       "2      f      57    1.65\n",
       "3      m      90    1.90\n",
       "4      m      95    1.74\n",
       "5      f      72    1.91"
      ]
     },
     "execution_count": 109,
     "metadata": {},
     "output_type": "execute_result"
    }
   ],
   "source": [
    "import pandas as pd\n",
    "df = pd.DataFrame(data = {'gender':gender,'weight':weight,'height':height})\n",
    "df"
   ]
  },
  {
   "cell_type": "code",
   "execution_count": 125,
   "id": "4324a3b0",
   "metadata": {},
   "outputs": [
    {
     "data": {
      "image/png": "[encoded data removed]",
      "text/plain": [
       "<Figure size 432x288 with 1 Axes>"
      ]
     },
     "metadata": {
      "needs_background": "light"
     },
     "output_type": "display_data"
    }
   ],
   "source": [
    "sp = df.boxplot(column='height',by='gender')\n",
    "sp.get_figure().tight_layout()"
   ]
  },
  {
   "cell_type": "code",
   "execution_count": null,
   "id": "1d219724",
   "metadata": {},
   "outputs": [],
   "source": []
  }
 ],
 "metadata": {
  "kernelspec": {
   "display_name": "Python 3",
   "language": "python",
   "name": "python3"
  },
  "language_info": {
   "codemirror_mode": {
    "name": "ipython",
    "version": 3
   },
   "file_extension": ".py",
   "mimetype": "text/x-python",
   "name": "python",
   "nbconvert_exporter": "python",
   "pygments_lexer": "ipython3",
   "version": "3.7.10"
  }
 },
 "nbformat": 4,
 "nbformat_minor": 5
}
